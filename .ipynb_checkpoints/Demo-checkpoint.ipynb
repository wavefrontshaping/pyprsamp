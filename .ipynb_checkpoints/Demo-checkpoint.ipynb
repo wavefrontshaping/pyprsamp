{
 "cells": [
  {
   "cell_type": "code",
   "execution_count": 1,
   "id": "simplified-english",
   "metadata": {},
   "outputs": [],
   "source": [
    "import pyprsamp\n",
    "import numpy as np\n",
    "import matplotlib.pyplot as plt"
   ]
  },
  {
   "cell_type": "code",
   "execution_count": 2,
   "id": "serial-workstation",
   "metadata": {},
   "outputs": [],
   "source": [
    "def addNoise(y, snr):\n",
    "    signal_power = np.linalg.norm(y)**2 / np.dot(*y.shape)\n",
    "    noise_power = signal_power / snr**2#( 10.**(snr/10) )\n",
    "    noise = np.sqrt(noise_power)*np.random.randn( y.shape[0],y.shape[1] )\n",
    "    return y + noise; "
   ]
  },
  {
   "cell_type": "markdown",
   "id": "basic-evidence",
   "metadata": {},
   "source": [
    "## Parameters"
   ]
  },
  {
   "cell_type": "code",
   "execution_count": 9,
   "id": "correct-sweden",
   "metadata": {},
   "outputs": [],
   "source": [
    "# Output size of the matrix\n",
    "m = 4\n",
    "# Input size of the matrix\n",
    "n = 50\n",
    "# Number of (random) input vector to estimate the matrix \n",
    "p = 10*n\n",
    "# Signal to noise ratio\n",
    "snr = 25"
   ]
  },
  {
   "cell_type": "markdown",
   "id": "pressed-dealer",
   "metadata": {},
   "source": [
    "## Generate the synthetic data\n",
    "\n",
    "### Generate a random Gaussian matrix as the Transmission Matrix (TM)"
   ]
  },
  {
   "cell_type": "code",
   "execution_count": 10,
   "id": "listed-infrared",
   "metadata": {},
   "outputs": [],
   "source": [
    "Ho = np.random.rand(m,n) + np.random.randn(m,n)*1j \n",
    "Ho = Ho/np.sqrt(n); "
   ]
  },
  {
   "cell_type": "markdown",
   "id": "regulated-mustang",
   "metadata": {},
   "source": [
    "### Generate random binary input vectors\n",
    "\n",
    "For $i \\in \\{1..p\\}$, the $i^{th}$ input vector reads:\n",
    "\n",
    "$x^i = \\left[x^i_0,\\dots,x^i_n\\right]$ \n",
    "\n",
    "with $x^i_j = 0$ or $1$"
   ]
  },
  {
   "cell_type": "code",
   "execution_count": 11,
   "id": "blank-angle",
   "metadata": {},
   "outputs": [],
   "source": [
    "X = np.random.rand(n,p)>0.5 #input binary patterns"
   ]
  },
  {
   "cell_type": "markdown",
   "id": "fifteen-operator",
   "metadata": {},
   "source": [
    "### Compute output vectors and add noise\n",
    "\n",
    "$y_i = \\left|\\mathbf{H} \\times x_i\\right| \\quad \\forall i \\in \\{1..p\\}$ \n",
    "\n",
    "$y^{\\text{noisy}}_i = y_i+b_i$\n",
    "\n",
    "with $b_i$ a random Gaussian noise vector\n",
    "\n",
    "We can also write in the matrix form:\n",
    "\n",
    "$\\mathbf{Y^{noisy}} = \\mathbf{H} \\times \\mathbf{X} + \\mathbf{B}$\n",
    "\n",
    "with $\\mathbf{X}$ of size $n \\times p$, $\\mathbf{Y^{noisy}}$ of size $m \\times p$, $\\mathbf{B}$ of size $m \\times p$, and $\\mathbf{H}$ of size $m \\times n$.\n",
    "\n"
   ]
  },
  {
   "cell_type": "code",
   "execution_count": 12,
   "id": "worst-pressure",
   "metadata": {},
   "outputs": [],
   "source": [
    "Y = np.abs(Ho@X)\n",
    "Y_noise = addNoise(np.abs(Ho@X), snr)"
   ]
  },
  {
   "cell_type": "code",
   "execution_count": 13,
   "id": "cathedral-perfume",
   "metadata": {},
   "outputs": [
    {
     "data": {
      "text/plain": [
       "<matplotlib.legend.Legend at 0x7f2a11667d90>"
      ]
     },
     "execution_count": 13,
     "metadata": {},
     "output_type": "execute_result"
    },
    {
     "data": {
      "image/png": "[encoded data removed]",
      "text/plain": [
       "<Figure size 432x288 with 1 Axes>"
      ]
     },
     "metadata": {
      "needs_background": "light"
     },
     "output_type": "display_data"
    }
   ],
   "source": [
    "i = 0\n",
    "plt.figure()\n",
    "plt.plot(Y[:,i], label = r'True $y_i$')\n",
    "plt.plot(Y_noise[:,i], label = r'Noisy $y_i$')\n",
    "plt.legend()"
   ]
  },
  {
   "cell_type": "code",
   "execution_count": 14,
   "id": "advance-danger",
   "metadata": {},
   "outputs": [
    {
     "name": "stdout",
     "output_type": "stream",
     "text": [
      "Proceeding iteration 1:\t 4 rows left.\n",
      "Proceeding iteration 2:\t 4 rows left.\n",
      "Proceeding iteration 3:\t 3 rows left.\n",
      "Proceeding iteration 4:\t 1 rows left.\n",
      "Convergence criteria met.\n"
     ]
    }
   ],
   "source": [
    "prms = pyprsamp.prsampPrms([m,n])\n",
    "prms.maxIter = 1000\n",
    "prms.prec = 1e-5\n",
    "#    prms.display = 1\n",
    "\n",
    "H_hat, eps = pyprsamp.RunUntilConv(\n",
    "    X,\n",
    "    Y_noise,\n",
    "    prms,\n",
    "    repeatMax=15,\n",
    "    maxIterIncrease=1.5\n",
    ")\n"
   ]
  },
  {
   "cell_type": "markdown",
   "id": "falling-powder",
   "metadata": {},
   "source": [
    "## Display the results"
   ]
  },
  {
   "cell_type": "code",
   "execution_count": 15,
   "id": "charged-regulation",
   "metadata": {},
   "outputs": [
    {
     "data": {
      "image/png": "[encoded data removed]",
      "text/plain": [
       "<Figure size 432x576 with 3 Axes>"
      ]
     },
     "metadata": {
      "needs_background": "light"
     },
     "output_type": "display_data"
    }
   ],
   "source": [
    "plt.figure(figsize = (6,8)); \n",
    "plt.subplot(311); \n",
    "plt.imshow(np.abs(Ho), interpolation ='None'); \n",
    "plt.title(r'True TM: $\\|\\mathbf{H}\\|$')\n",
    "plt.axis('off')\n",
    "# plt.subplot(312); \n",
    "# plt.imshow(np.abs(H_hat), interpolation ='None')\n",
    "# plt.title('Reconstructed TM with prSamp')\n",
    "# plt.axis('off')\n",
    "plt.subplot(312); \n",
    "plt.imshow(np.abs(H_hat),interpolation ='None')\n",
    "plt.title(r'prSamp: $\\|\\hat{\\mathbf{H}}\\|$')\n",
    "plt.axis('off');\n",
    "plt.subplot(313); \n",
    "plt.imshow(np.abs(H_hat),interpolation ='None')\n",
    "plt.title(r'$\\|\\hat{\\mathbf{H}}-\\mathbf{H}\\|$')\n",
    "plt.axis('off');"
   ]
  },
  {
   "cell_type": "code",
   "execution_count": 16,
   "id": "desirable-secret",
   "metadata": {},
   "outputs": [
    {
     "data": {
      "image/png": "[encoded data removed]",
      "text/plain": [
       "<Figure size 432x576 with 3 Axes>"
      ]
     },
     "metadata": {
      "needs_background": "light"
     },
     "output_type": "display_data"
    }
   ],
   "source": [
    "plt.figure(figsize = (6,8)); \n",
    "plt.subplot(311); \n",
    "plt.imshow(np.angle(Ho), interpolation ='None', cmap = 'hsv'); \n",
    "plt.title(r'Angle True TM: $\\mathbf{H}$')\n",
    "plt.axis('off')\n",
    "plt.subplot(312); \n",
    "plt.imshow(np.angle(H_hat), interpolation ='None', cmap = 'hsv'); \n",
    "plt.title(r'Angle prSamp: $\\hat{\\mathbf{H}}$')\n",
    "plt.axis('off')\n",
    "plt.subplot(313); \n",
    "plt.imshow(np.angle(Ho/H_hat), interpolation ='None', cmap = 'hsv'); \n",
    "plt.title(r'$angle\\left(\\mathbf{H}/\\hat{\\mathbf{H}}\\right)$')\n",
    "plt.axis('off');"
   ]
  },
  {
   "cell_type": "code",
   "execution_count": null,
   "id": "political-begin",
   "metadata": {},
   "outputs": [],
   "source": []
  },
  {
   "cell_type": "code",
   "execution_count": null,
   "id": "legendary-bargain",
   "metadata": {},
   "outputs": [],
   "source": [
    "u, s, vh = np.linalg.svd(Ho)\n",
    "u, s2, vh = np.linalg.svd(H_hat)"
   ]
  },
  {
   "cell_type": "code",
   "execution_count": null,
   "id": "otherwise-transfer",
   "metadata": {},
   "outputs": [],
   "source": [
    "plt.figure()\n",
    "plt.hist(s)\n",
    "plt.hist(s2)"
   ]
  },
  {
   "cell_type": "code",
   "execution_count": null,
   "id": "annoying-religion",
   "metadata": {},
   "outputs": [],
   "source": []
  },
  {
   "cell_type": "code",
   "execution_count": null,
   "id": "greater-crash",
   "metadata": {},
   "outputs": [],
   "source": []
  }
 ],
 "metadata": {
  "kernelspec": {
   "display_name": "Python 3",
   "language": "python",
   "name": "python3"
  },
  "language_info": {
   "codemirror_mode": {
    "name": "ipython",
    "version": 3
   },
   "file_extension": ".py",
   "mimetype": "text/x-python",
   "name": "python",
   "nbconvert_exporter": "python",
   "pygments_lexer": "ipython3",
   "version": "3.8.5"
  },
  "toc": {
   "base_numbering": 1,
   "nav_menu": {},
   "number_sections": true,
   "sideBar": true,
   "skip_h1_title": false,
   "title_cell": "Table of Contents",
   "title_sidebar": "Contents",
   "toc_cell": false,
   "toc_position": {},
   "toc_section_display": true,
   "toc_window_display": false
  }
 },
 "nbformat": 4,
 "nbformat_minor": 5
}
